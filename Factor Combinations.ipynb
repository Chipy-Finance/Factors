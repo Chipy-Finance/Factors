{
 "cells": [
  {
   "cell_type": "code",
   "execution_count": 1,
   "metadata": {},
   "outputs": [],
   "source": [
    "import os\n",
    "import pandas as pd\n",
    "import numpy as np\n",
    "import matplotlib.pyplot as plt\n",
    "%matplotlib inline"
   ]
  },
  {
   "cell_type": "code",
   "execution_count": 2,
   "metadata": {},
   "outputs": [
    {
     "data": {
      "text/html": [
       "<div>\n",
       "<style scoped>\n",
       "    .dataframe tbody tr th:only-of-type {\n",
       "        vertical-align: middle;\n",
       "    }\n",
       "\n",
       "    .dataframe tbody tr th {\n",
       "        vertical-align: top;\n",
       "    }\n",
       "\n",
       "    .dataframe thead th {\n",
       "        text-align: right;\n",
       "    }\n",
       "</style>\n",
       "<table border=\"1\" class=\"dataframe\">\n",
       "  <thead>\n",
       "    <tr style=\"text-align: right;\">\n",
       "      <th></th>\n",
       "      <th>company_ref_no</th>\n",
       "      <th>gic_sector_nm</th>\n",
       "      <th>gic_subindustry_id</th>\n",
       "      <th>country_cd</th>\n",
       "      <th>region_id</th>\n",
       "      <th>datadate</th>\n",
       "      <th>fx_rate</th>\n",
       "      <th>mcap_local</th>\n",
       "      <th>mcap_usd</th>\n",
       "      <th>ev_lfy</th>\n",
       "      <th>...</th>\n",
       "      <th>asset_growth_fy1</th>\n",
       "      <th>roic_lfy</th>\n",
       "      <th>roic_fy1</th>\n",
       "      <th>roic_fy2</th>\n",
       "      <th>coverage_fy1</th>\n",
       "      <th>prc_return_1m</th>\n",
       "      <th>prc_return_12m</th>\n",
       "      <th>tsr_fwd1</th>\n",
       "      <th>tsr_fwd3</th>\n",
       "      <th>tsr_fwd12</th>\n",
       "    </tr>\n",
       "  </thead>\n",
       "  <tbody>\n",
       "    <tr>\n",
       "      <th>0</th>\n",
       "      <td>5049</td>\n",
       "      <td>Information Technology</td>\n",
       "      <td>45301020</td>\n",
       "      <td>USA</td>\n",
       "      <td>100108</td>\n",
       "      <td>19991031</td>\n",
       "      <td>1.0</td>\n",
       "      <td>1.40335</td>\n",
       "      <td>1.40335</td>\n",
       "      <td>NaN</td>\n",
       "      <td>...</td>\n",
       "      <td>103.54059</td>\n",
       "      <td>1.30212</td>\n",
       "      <td>-7.63576</td>\n",
       "      <td>1.04161</td>\n",
       "      <td>0.36582</td>\n",
       "      <td>15.24752</td>\n",
       "      <td>83.01886</td>\n",
       "      <td>5.67</td>\n",
       "      <td>52.58</td>\n",
       "      <td>217.27</td>\n",
       "    </tr>\n",
       "    <tr>\n",
       "      <th>1</th>\n",
       "      <td>5049</td>\n",
       "      <td>Information Technology</td>\n",
       "      <td>45301020</td>\n",
       "      <td>USA</td>\n",
       "      <td>100108</td>\n",
       "      <td>20000131</td>\n",
       "      <td>1.0</td>\n",
       "      <td>2.14119</td>\n",
       "      <td>2.14119</td>\n",
       "      <td>NaN</td>\n",
       "      <td>...</td>\n",
       "      <td>103.54059</td>\n",
       "      <td>1.30212</td>\n",
       "      <td>-4.32059</td>\n",
       "      <td>3.39081</td>\n",
       "      <td>0.48270</td>\n",
       "      <td>70.44145</td>\n",
       "      <td>179.24529</td>\n",
       "      <td>104.05</td>\n",
       "      <td>156.76</td>\n",
       "      <td>-3.21</td>\n",
       "    </tr>\n",
       "    <tr>\n",
       "      <th>2</th>\n",
       "      <td>5049</td>\n",
       "      <td>Information Technology</td>\n",
       "      <td>45301020</td>\n",
       "      <td>USA</td>\n",
       "      <td>100108</td>\n",
       "      <td>20000430</td>\n",
       "      <td>1.0</td>\n",
       "      <td>6.02984</td>\n",
       "      <td>6.02984</td>\n",
       "      <td>1226.7323</td>\n",
       "      <td>...</td>\n",
       "      <td>226.32947</td>\n",
       "      <td>7.52600</td>\n",
       "      <td>6.24398</td>\n",
       "      <td>6.15711</td>\n",
       "      <td>1.00114</td>\n",
       "      <td>-6.80564</td>\n",
       "      <td>616.98114</td>\n",
       "      <td>-6.97</td>\n",
       "      <td>18.88</td>\n",
       "      <td>-76.84</td>\n",
       "    </tr>\n",
       "    <tr>\n",
       "      <th>3</th>\n",
       "      <td>5049</td>\n",
       "      <td>Information Technology</td>\n",
       "      <td>45301020</td>\n",
       "      <td>USA</td>\n",
       "      <td>100108</td>\n",
       "      <td>20000731</td>\n",
       "      <td>1.0</td>\n",
       "      <td>7.80929</td>\n",
       "      <td>7.80929</td>\n",
       "      <td>1226.7323</td>\n",
       "      <td>...</td>\n",
       "      <td>622.28265</td>\n",
       "      <td>7.52600</td>\n",
       "      <td>6.79984</td>\n",
       "      <td>5.68753</td>\n",
       "      <td>1.05230</td>\n",
       "      <td>-7.48752</td>\n",
       "      <td>567.61090</td>\n",
       "      <td>6.64</td>\n",
       "      <td>-31.88</td>\n",
       "      <td>-85.83</td>\n",
       "    </tr>\n",
       "    <tr>\n",
       "      <th>4</th>\n",
       "      <td>5049</td>\n",
       "      <td>Information Technology</td>\n",
       "      <td>45301020</td>\n",
       "      <td>USA</td>\n",
       "      <td>100108</td>\n",
       "      <td>20001031</td>\n",
       "      <td>1.0</td>\n",
       "      <td>5.51134</td>\n",
       "      <td>5.51134</td>\n",
       "      <td>1226.7323</td>\n",
       "      <td>...</td>\n",
       "      <td>664.74760</td>\n",
       "      <td>7.52600</td>\n",
       "      <td>9.31426</td>\n",
       "      <td>7.84159</td>\n",
       "      <td>1.13359</td>\n",
       "      <td>-36.93647</td>\n",
       "      <td>217.26804</td>\n",
       "      <td>-59.30</td>\n",
       "      <td>-53.45</td>\n",
       "      <td>-84.45</td>\n",
       "    </tr>\n",
       "  </tbody>\n",
       "</table>\n",
       "<p>5 rows × 33 columns</p>\n",
       "</div>"
      ],
      "text/plain": [
       "   company_ref_no           gic_sector_nm  gic_subindustry_id country_cd  \\\n",
       "0            5049  Information Technology            45301020        USA   \n",
       "1            5049  Information Technology            45301020        USA   \n",
       "2            5049  Information Technology            45301020        USA   \n",
       "3            5049  Information Technology            45301020        USA   \n",
       "4            5049  Information Technology            45301020        USA   \n",
       "\n",
       "   region_id  datadate  fx_rate  mcap_local  mcap_usd     ev_lfy    ...      \\\n",
       "0     100108  19991031      1.0     1.40335   1.40335        NaN    ...       \n",
       "1     100108  20000131      1.0     2.14119   2.14119        NaN    ...       \n",
       "2     100108  20000430      1.0     6.02984   6.02984  1226.7323    ...       \n",
       "3     100108  20000731      1.0     7.80929   7.80929  1226.7323    ...       \n",
       "4     100108  20001031      1.0     5.51134   5.51134  1226.7323    ...       \n",
       "\n",
       "   asset_growth_fy1  roic_lfy  roic_fy1  roic_fy2  coverage_fy1  \\\n",
       "0         103.54059   1.30212  -7.63576   1.04161       0.36582   \n",
       "1         103.54059   1.30212  -4.32059   3.39081       0.48270   \n",
       "2         226.32947   7.52600   6.24398   6.15711       1.00114   \n",
       "3         622.28265   7.52600   6.79984   5.68753       1.05230   \n",
       "4         664.74760   7.52600   9.31426   7.84159       1.13359   \n",
       "\n",
       "   prc_return_1m  prc_return_12m  tsr_fwd1  tsr_fwd3  tsr_fwd12  \n",
       "0       15.24752        83.01886      5.67     52.58     217.27  \n",
       "1       70.44145       179.24529    104.05    156.76      -3.21  \n",
       "2       -6.80564       616.98114     -6.97     18.88     -76.84  \n",
       "3       -7.48752       567.61090      6.64    -31.88     -85.83  \n",
       "4      -36.93647       217.26804    -59.30    -53.45     -84.45  \n",
       "\n",
       "[5 rows x 33 columns]"
      ]
     },
     "execution_count": 2,
     "metadata": {},
     "output_type": "execute_result"
    }
   ],
   "source": [
    "factors = pd.read_csv('holt_factor_data.csv',sep='|',encoding='utf-8',thousands=',')\n",
    "factors.head()"
   ]
  },
  {
   "cell_type": "code",
   "execution_count": 3,
   "metadata": {},
   "outputs": [
    {
     "name": "stderr",
     "output_type": "stream",
     "text": [
      "/Users/davidmatsumura/anaconda3/lib/python3.6/site-packages/pandas/core/reshape/reshape.py:731: FutureWarning: \n",
      "Passing list-likes to .loc or [] with any missing label will raise\n",
      "KeyError in the future, you can use .reindex() as an alternative.\n",
      "\n",
      "See the documentation here:\n",
      "http://pandas.pydata.org/pandas-docs/stable/indexing.html#deprecate-loc-reindex-listlike\n",
      "  frame = frame.loc[:, id_vars + value_vars]\n",
      "/Users/davidmatsumura/anaconda3/lib/python3.6/site-packages/pandas/core/indexing.py:1367: FutureWarning: \n",
      "Passing list-likes to .loc or [] with any missing label will raise\n",
      "KeyError in the future, you can use .reindex() as an alternative.\n",
      "\n",
      "See the documentation here:\n",
      "http://pandas.pydata.org/pandas-docs/stable/indexing.html#deprecate-loc-reindex-listlike\n",
      "  return self._getitem_tuple(key)\n"
     ]
    },
    {
     "name": "stdout",
     "output_type": "stream",
     "text": [
      "11969160\n",
      "9377513\n"
     ]
    }
   ],
   "source": [
    "#Melt and Calculate Z-Scores\n",
    "index_cols = ['company_ref_no', 'gic_sector_nm', 'gic_subindustry_id', 'country_cd', 'region_id', 'datadate', 'fx_rate']\n",
    "\n",
    "value_vars = ['price', 'ev_lfy', 'ev_fy1', 'eps_lfy', 'eps_fy1', 'eps_fy2', 'ebitda_lfy', 'ebitda_fy1', 'ev_ebitda_lfy',\n",
    " 'ev_ebitda_fy1', 'div_yeild', 'pe_lfy', 'pe_fy1', 'sales_lfy', 'sales_fy1', 'sales_fy2', 'sales_growth_lfy', 'assets',\n",
    " 'assets_fy1', 'asset_growth_lfy', 'asset_growth_fy1', 'roic_lfy', 'roic_fy1', 'roic_fy2', 'coverage_fy1', 'prc_return_1m',\n",
    " 'prc_return_12m', 'tsr_fwd1', 'tsr_fwd3', 'tsr_fwd12']\n",
    "\n",
    "factors_deep = pd.melt(factors, id_vars= index_cols, value_vars = value_vars)\n",
    "print(len(factors_deep))\n",
    "factors_deep.dropna(inplace=True)\n",
    "print(len(factors_deep))"
   ]
  },
  {
   "cell_type": "code",
   "execution_count": 4,
   "metadata": {},
   "outputs": [
    {
     "data": {
      "text/plain": [
       "array(['ev_lfy', 'eps_lfy', 'eps_fy1', 'eps_fy2', 'ebitda_lfy',\n",
       "       'ebitda_fy1', 'ev_ebitda_lfy', 'ev_ebitda_fy1', 'div_yeild',\n",
       "       'sales_lfy', 'sales_fy1', 'sales_fy2', 'sales_growth_lfy',\n",
       "       'asset_growth_lfy', 'asset_growth_fy1', 'roic_lfy', 'roic_fy1',\n",
       "       'roic_fy2', 'coverage_fy1', 'prc_return_1m', 'prc_return_12m',\n",
       "       'tsr_fwd1', 'tsr_fwd3', 'tsr_fwd12'], dtype=object)"
      ]
     },
     "execution_count": 4,
     "metadata": {},
     "output_type": "execute_result"
    }
   ],
   "source": [
    "factors_deep.variable.unique()"
   ]
  },
  {
   "cell_type": "code",
   "execution_count": 5,
   "metadata": {},
   "outputs": [],
   "source": [
    "z_score = lambda x: (x - x.mean()) / x.std()\n",
    "sector_grouping = ['gic_sector_nm','region_id','datadate','variable']\n",
    "\n",
    "factors_deep['value_median'] = factors_deep.groupby(sector_grouping)['value'].transform(np.median)\n",
    "factors_deep['sector_region_zscore'] = factors_deep.groupby(sector_grouping)['value'].transform(z_score)\n",
    "factors_deep['value'] = np.where(abs(factors_deep['sector_region_zscore'])>4,factors_deep['value_median'],factors_deep['value'])\n",
    "factors_deep['sector_region_zscore'] = factors_deep.groupby(sector_grouping)['value'].transform(z_score)"
   ]
  },
  {
   "cell_type": "code",
   "execution_count": 6,
   "metadata": {},
   "outputs": [],
   "source": [
    "#Convert the yields\n",
    "convert_to_yield = ['ev_ebitda_lfy','ev_ebitda_fy1','ev_ebitda_fy2','pe_lfy','pe_fy1','pe_fy2']\n",
    "for i in convert_to_yield:\n",
    "    factors_deep['sector_region_zscore'] = np.where(factors_deep['variable']==i,-1*factors_deep['sector_region_zscore'],factors_deep['sector_region_zscore'])"
   ]
  },
  {
   "cell_type": "code",
   "execution_count": 7,
   "metadata": {},
   "outputs": [],
   "source": [
    "#Filter on a single datadate\n",
    "\n",
    "#factors_deep.datadate.unique()\n",
    "data=factors_deep[factors_deep['datadate'] == 20171031].dropna()\n"
   ]
  },
  {
   "cell_type": "code",
   "execution_count": 8,
   "metadata": {},
   "outputs": [
    {
     "data": {
      "text/html": [
       "<div>\n",
       "<style scoped>\n",
       "    .dataframe tbody tr th:only-of-type {\n",
       "        vertical-align: middle;\n",
       "    }\n",
       "\n",
       "    .dataframe tbody tr th {\n",
       "        vertical-align: top;\n",
       "    }\n",
       "\n",
       "    .dataframe thead th {\n",
       "        text-align: right;\n",
       "    }\n",
       "</style>\n",
       "<table border=\"1\" class=\"dataframe\">\n",
       "  <thead>\n",
       "    <tr style=\"text-align: right;\">\n",
       "      <th></th>\n",
       "      <th>company_ref_no</th>\n",
       "      <th>sector_region_zscore_x</th>\n",
       "      <th>sector_region_zscore_y</th>\n",
       "    </tr>\n",
       "  </thead>\n",
       "  <tbody>\n",
       "    <tr>\n",
       "      <th>0</th>\n",
       "      <td>7833</td>\n",
       "      <td>0.207077</td>\n",
       "      <td>0.470294</td>\n",
       "    </tr>\n",
       "    <tr>\n",
       "      <th>1</th>\n",
       "      <td>8582</td>\n",
       "      <td>0.342793</td>\n",
       "      <td>0.742768</td>\n",
       "    </tr>\n",
       "    <tr>\n",
       "      <th>2</th>\n",
       "      <td>8689</td>\n",
       "      <td>0.547679</td>\n",
       "      <td>-0.644218</td>\n",
       "    </tr>\n",
       "    <tr>\n",
       "      <th>3</th>\n",
       "      <td>9331</td>\n",
       "      <td>-1.573128</td>\n",
       "      <td>0.061450</td>\n",
       "    </tr>\n",
       "    <tr>\n",
       "      <th>4</th>\n",
       "      <td>13614</td>\n",
       "      <td>-1.213765</td>\n",
       "      <td>0.714935</td>\n",
       "    </tr>\n",
       "  </tbody>\n",
       "</table>\n",
       "</div>"
      ],
      "text/plain": [
       "   company_ref_no  sector_region_zscore_x  sector_region_zscore_y\n",
       "0            7833                0.207077                0.470294\n",
       "1            8582                0.342793                0.742768\n",
       "2            8689                0.547679               -0.644218\n",
       "3            9331               -1.573128                0.061450\n",
       "4           13614               -1.213765                0.714935"
      ]
     },
     "execution_count": 8,
     "metadata": {},
     "output_type": "execute_result"
    }
   ],
   "source": [
    "#Plot EV_EBITDA vs Price Momentum\n",
    "x = data[data['variable']=='ev_ebitda_fy1'][['company_ref_no','sector_region_zscore']]\n",
    "y = data[data['variable']=='prc_return_12m'][['company_ref_no','sector_region_zscore']]\n",
    "scatter_data = x.merge(y,how='inner',on='company_ref_no')\n",
    "scatter_data.head()\n"
   ]
  },
  {
   "cell_type": "code",
   "execution_count": 9,
   "metadata": {},
   "outputs": [
    {
     "data": {
      "text/plain": [
       "<matplotlib.axes._subplots.AxesSubplot at 0x1095d38d0>"
      ]
     },
     "execution_count": 9,
     "metadata": {},
     "output_type": "execute_result"
    },
    {
     "data": {
      "image/png": "[encoded data removed]",
      "text/plain": [
       "<matplotlib.figure.Figure at 0x107f7e7b8>"
      ]
     },
     "metadata": {},
     "output_type": "display_data"
    }
   ],
   "source": [
    "scatter_data[(abs(scatter_data.sector_region_zscore_x) < 4)&(abs(scatter_data.sector_region_zscore_y) < 4)].plot.scatter(x='sector_region_zscore_x',y='sector_region_zscore_y')\n",
    "#scatter_data.plot.scatter(x='sector_region_zscore_x',y='sector_region_zscore_y')"
   ]
  },
  {
   "cell_type": "code",
   "execution_count": 10,
   "metadata": {},
   "outputs": [],
   "source": [
    "#scatter_data['x_bins'] = scatter_data[(abs(scatter_data.sector_region_zscore_x) < 4.5)&(abs(scatter_data.sector_region_zscore_y) < 4.5)]['sector_region_zscore_x'].apply(lambda x: round(x,0))\n",
    "scatter_data['x_bins'] = pd.cut(scatter_data[(abs(scatter_data.sector_region_zscore_x) < 4.5)&(abs(scatter_data.sector_region_zscore_y) < 4.5)]['sector_region_zscore_x'],bins=9,labels=[1,2,3,4,5,6,7,8,9])\n",
    "mom_val = scatter_data.groupby('x_bins')['sector_region_zscore_y'].median()\n",
    "#mom_val.plot()"
   ]
  },
  {
   "cell_type": "code",
   "execution_count": null,
   "metadata": {},
   "outputs": [],
   "source": []
  },
  {
   "cell_type": "code",
   "execution_count": null,
   "metadata": {},
   "outputs": [],
   "source": []
  }
 ],
 "metadata": {
  "kernelspec": {
   "display_name": "Python 3",
   "language": "python",
   "name": "python3"
  },
  "language_info": {
   "codemirror_mode": {
    "name": "ipython",
    "version": 3
   },
   "file_extension": ".py",
   "mimetype": "text/x-python",
   "name": "python",
   "nbconvert_exporter": "python",
   "pygments_lexer": "ipython3",
   "version": "3.6.4"
  }
 },
 "nbformat": 4,
 "nbformat_minor": 2
}
