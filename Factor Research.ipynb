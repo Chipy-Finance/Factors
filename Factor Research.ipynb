{
 "cells": [
  {
   "cell_type": "code",
   "execution_count": 1,
   "metadata": {},
   "outputs": [],
   "source": [
    "import os\n",
    "import pandas as pd\n",
    "import numpy as np\n",
    "import matplotlib.pyplot as plt\n",
    "from scipy.stats import norm\n",
    "%matplotlib inline"
   ]
  },
  {
   "cell_type": "code",
   "execution_count": 2,
   "metadata": {},
   "outputs": [
    {
     "data": {
      "text/html": [
       "<div>\n",
       "<style scoped>\n",
       "    .dataframe tbody tr th:only-of-type {\n",
       "        vertical-align: middle;\n",
       "    }\n",
       "\n",
       "    .dataframe tbody tr th {\n",
       "        vertical-align: top;\n",
       "    }\n",
       "\n",
       "    .dataframe thead th {\n",
       "        text-align: right;\n",
       "    }\n",
       "</style>\n",
       "<table border=\"1\" class=\"dataframe\">\n",
       "  <thead>\n",
       "    <tr style=\"text-align: right;\">\n",
       "      <th></th>\n",
       "      <th>company_ref_no</th>\n",
       "      <th>gic_sector_nm</th>\n",
       "      <th>gic_subindustry_id</th>\n",
       "      <th>country_cd</th>\n",
       "      <th>region_id</th>\n",
       "      <th>datadate</th>\n",
       "      <th>fx_rate</th>\n",
       "      <th>mcap_local</th>\n",
       "      <th>mcap_usd</th>\n",
       "      <th>ev_lfy</th>\n",
       "      <th>...</th>\n",
       "      <th>asset_growth_fy1</th>\n",
       "      <th>roic_lfy</th>\n",
       "      <th>roic_fy1</th>\n",
       "      <th>roic_fy2</th>\n",
       "      <th>coverage_fy1</th>\n",
       "      <th>prc_return_1m</th>\n",
       "      <th>prc_return_12m</th>\n",
       "      <th>tsr_fwd1</th>\n",
       "      <th>tsr_fwd3</th>\n",
       "      <th>tsr_fwd12</th>\n",
       "    </tr>\n",
       "  </thead>\n",
       "  <tbody>\n",
       "    <tr>\n",
       "      <th>0</th>\n",
       "      <td>5049</td>\n",
       "      <td>Information Technology</td>\n",
       "      <td>45301020</td>\n",
       "      <td>USA</td>\n",
       "      <td>100108</td>\n",
       "      <td>19991031</td>\n",
       "      <td>1.0</td>\n",
       "      <td>1.40335</td>\n",
       "      <td>1.40335</td>\n",
       "      <td>NaN</td>\n",
       "      <td>...</td>\n",
       "      <td>103.54059</td>\n",
       "      <td>1.30212</td>\n",
       "      <td>-7.63576</td>\n",
       "      <td>1.04161</td>\n",
       "      <td>0.36582</td>\n",
       "      <td>15.24752</td>\n",
       "      <td>83.01886</td>\n",
       "      <td>5.67</td>\n",
       "      <td>52.58</td>\n",
       "      <td>217.27</td>\n",
       "    </tr>\n",
       "    <tr>\n",
       "      <th>1</th>\n",
       "      <td>5049</td>\n",
       "      <td>Information Technology</td>\n",
       "      <td>45301020</td>\n",
       "      <td>USA</td>\n",
       "      <td>100108</td>\n",
       "      <td>20000131</td>\n",
       "      <td>1.0</td>\n",
       "      <td>2.14119</td>\n",
       "      <td>2.14119</td>\n",
       "      <td>NaN</td>\n",
       "      <td>...</td>\n",
       "      <td>103.54059</td>\n",
       "      <td>1.30212</td>\n",
       "      <td>-4.32059</td>\n",
       "      <td>3.39081</td>\n",
       "      <td>0.48270</td>\n",
       "      <td>70.44145</td>\n",
       "      <td>179.24529</td>\n",
       "      <td>104.05</td>\n",
       "      <td>156.76</td>\n",
       "      <td>-3.21</td>\n",
       "    </tr>\n",
       "    <tr>\n",
       "      <th>2</th>\n",
       "      <td>5049</td>\n",
       "      <td>Information Technology</td>\n",
       "      <td>45301020</td>\n",
       "      <td>USA</td>\n",
       "      <td>100108</td>\n",
       "      <td>20000430</td>\n",
       "      <td>1.0</td>\n",
       "      <td>6.02984</td>\n",
       "      <td>6.02984</td>\n",
       "      <td>1226.7323</td>\n",
       "      <td>...</td>\n",
       "      <td>226.32947</td>\n",
       "      <td>7.52600</td>\n",
       "      <td>6.24398</td>\n",
       "      <td>6.15711</td>\n",
       "      <td>1.00114</td>\n",
       "      <td>-6.80564</td>\n",
       "      <td>616.98114</td>\n",
       "      <td>-6.97</td>\n",
       "      <td>18.88</td>\n",
       "      <td>-76.84</td>\n",
       "    </tr>\n",
       "    <tr>\n",
       "      <th>3</th>\n",
       "      <td>5049</td>\n",
       "      <td>Information Technology</td>\n",
       "      <td>45301020</td>\n",
       "      <td>USA</td>\n",
       "      <td>100108</td>\n",
       "      <td>20000731</td>\n",
       "      <td>1.0</td>\n",
       "      <td>7.80929</td>\n",
       "      <td>7.80929</td>\n",
       "      <td>1226.7323</td>\n",
       "      <td>...</td>\n",
       "      <td>622.28265</td>\n",
       "      <td>7.52600</td>\n",
       "      <td>6.79984</td>\n",
       "      <td>5.68753</td>\n",
       "      <td>1.05230</td>\n",
       "      <td>-7.48752</td>\n",
       "      <td>567.61090</td>\n",
       "      <td>6.64</td>\n",
       "      <td>-31.88</td>\n",
       "      <td>-85.83</td>\n",
       "    </tr>\n",
       "    <tr>\n",
       "      <th>4</th>\n",
       "      <td>5049</td>\n",
       "      <td>Information Technology</td>\n",
       "      <td>45301020</td>\n",
       "      <td>USA</td>\n",
       "      <td>100108</td>\n",
       "      <td>20001031</td>\n",
       "      <td>1.0</td>\n",
       "      <td>5.51134</td>\n",
       "      <td>5.51134</td>\n",
       "      <td>1226.7323</td>\n",
       "      <td>...</td>\n",
       "      <td>664.74760</td>\n",
       "      <td>7.52600</td>\n",
       "      <td>9.31426</td>\n",
       "      <td>7.84159</td>\n",
       "      <td>1.13359</td>\n",
       "      <td>-36.93647</td>\n",
       "      <td>217.26804</td>\n",
       "      <td>-59.30</td>\n",
       "      <td>-53.45</td>\n",
       "      <td>-84.45</td>\n",
       "    </tr>\n",
       "  </tbody>\n",
       "</table>\n",
       "<p>5 rows × 33 columns</p>\n",
       "</div>"
      ],
      "text/plain": [
       "   company_ref_no           gic_sector_nm  gic_subindustry_id country_cd  \\\n",
       "0            5049  Information Technology            45301020        USA   \n",
       "1            5049  Information Technology            45301020        USA   \n",
       "2            5049  Information Technology            45301020        USA   \n",
       "3            5049  Information Technology            45301020        USA   \n",
       "4            5049  Information Technology            45301020        USA   \n",
       "\n",
       "   region_id  datadate  fx_rate  mcap_local  mcap_usd     ev_lfy    ...      \\\n",
       "0     100108  19991031      1.0     1.40335   1.40335        NaN    ...       \n",
       "1     100108  20000131      1.0     2.14119   2.14119        NaN    ...       \n",
       "2     100108  20000430      1.0     6.02984   6.02984  1226.7323    ...       \n",
       "3     100108  20000731      1.0     7.80929   7.80929  1226.7323    ...       \n",
       "4     100108  20001031      1.0     5.51134   5.51134  1226.7323    ...       \n",
       "\n",
       "   asset_growth_fy1  roic_lfy  roic_fy1  roic_fy2  coverage_fy1  \\\n",
       "0         103.54059   1.30212  -7.63576   1.04161       0.36582   \n",
       "1         103.54059   1.30212  -4.32059   3.39081       0.48270   \n",
       "2         226.32947   7.52600   6.24398   6.15711       1.00114   \n",
       "3         622.28265   7.52600   6.79984   5.68753       1.05230   \n",
       "4         664.74760   7.52600   9.31426   7.84159       1.13359   \n",
       "\n",
       "   prc_return_1m  prc_return_12m  tsr_fwd1  tsr_fwd3  tsr_fwd12  \n",
       "0       15.24752        83.01886      5.67     52.58     217.27  \n",
       "1       70.44145       179.24529    104.05    156.76      -3.21  \n",
       "2       -6.80564       616.98114     -6.97     18.88     -76.84  \n",
       "3       -7.48752       567.61090      6.64    -31.88     -85.83  \n",
       "4      -36.93647       217.26804    -59.30    -53.45     -84.45  \n",
       "\n",
       "[5 rows x 33 columns]"
      ]
     },
     "execution_count": 2,
     "metadata": {},
     "output_type": "execute_result"
    }
   ],
   "source": [
    "factors = pd.read_csv('holt_factor_data.csv',sep='|',encoding='utf-8',thousands=',')\n",
    "factors.head()"
   ]
  },
  {
   "cell_type": "code",
   "execution_count": 3,
   "metadata": {},
   "outputs": [
    {
     "data": {
      "text/plain": [
       "Index(['company_ref_no', 'gic_sector_nm', 'gic_subindustry_id', 'country_cd',\n",
       "       'region_id', 'datadate', 'fx_rate', 'mcap_local', 'mcap_usd', 'ev_lfy',\n",
       "       'eps_lfy', 'eps_fy1', 'eps_fy2', 'ebitda_lfy', 'ebitda_fy1',\n",
       "       'ev_ebitda_lfy', 'ev_ebitda_fy1', 'div_yeild', 'sales_lfy', 'sales_fy1',\n",
       "       'sales_fy2', 'sales_growth_lfy', 'asset_growth_lfy', 'asset_growth_fy1',\n",
       "       'roic_lfy', 'roic_fy1', 'roic_fy2', 'coverage_fy1', 'prc_return_1m',\n",
       "       'prc_return_12m', 'tsr_fwd1', 'tsr_fwd3', 'tsr_fwd12'],\n",
       "      dtype='object')"
      ]
     },
     "execution_count": 3,
     "metadata": {},
     "output_type": "execute_result"
    }
   ],
   "source": [
    "factors.columns"
   ]
  },
  {
   "cell_type": "code",
   "execution_count": 4,
   "metadata": {},
   "outputs": [
    {
     "data": {
      "text/plain": [
       "count    3.989170e+05\n",
       "mean     1.196985e+02\n",
       "std      8.614651e+03\n",
       "min     -9.999190e+01\n",
       "25%     -9.145430e+00\n",
       "50%      1.073209e+01\n",
       "75%      3.577982e+01\n",
       "max      2.316972e+06\n",
       "Name: prc_return_12m, dtype: float64"
      ]
     },
     "execution_count": 4,
     "metadata": {},
     "output_type": "execute_result"
    }
   ],
   "source": [
    "factors.prc_return_12m.describe()"
   ]
  },
  {
   "cell_type": "code",
   "execution_count": 5,
   "metadata": {},
   "outputs": [
    {
     "data": {
      "text/plain": [
       "<matplotlib.axes._subplots.AxesSubplot at 0x1a0ad490b8>"
      ]
     },
     "execution_count": 5,
     "metadata": {},
     "output_type": "execute_result"
    },
    {
     "data": {
      "image/png": "[encoded data removed]",
      "text/plain": [
       "<matplotlib.figure.Figure at 0x1052a6630>"
      ]
     },
     "metadata": {},
     "output_type": "display_data"
    }
   ],
   "source": [
    "factors[abs(factors.roic_lfy)<100].roic_lfy.hist()"
   ]
  },
  {
   "cell_type": "code",
   "execution_count": 6,
   "metadata": {},
   "outputs": [
    {
     "data": {
      "text/plain": [
       "count    398331.000000\n",
       "mean          9.304730\n",
       "std          19.346657\n",
       "min       -2440.352300\n",
       "25%           4.090630\n",
       "50%           7.868990\n",
       "75%          12.837295\n",
       "max        3466.624500\n",
       "Name: roic_lfy, dtype: float64"
      ]
     },
     "execution_count": 6,
     "metadata": {},
     "output_type": "execute_result"
    }
   ],
   "source": [
    "factors.roic_lfy.describe()"
   ]
  },
  {
   "cell_type": "code",
   "execution_count": 7,
   "metadata": {},
   "outputs": [
    {
     "data": {
      "text/plain": [
       "<matplotlib.axes._subplots.AxesSubplot at 0x1048998d0>"
      ]
     },
     "execution_count": 7,
     "metadata": {},
     "output_type": "execute_result"
    },
    {
     "data": {
      "image/png": "[encoded data removed]",
      "text/plain": [
       "<matplotlib.figure.Figure at 0x10490b1d0>"
      ]
     },
     "metadata": {},
     "output_type": "display_data"
    }
   ],
   "source": [
    "factors[abs(factors.roic_lfy)<50].roic_lfy.hist()"
   ]
  },
  {
   "cell_type": "code",
   "execution_count": 8,
   "metadata": {},
   "outputs": [
    {
     "name": "stdout",
     "output_type": "stream",
     "text": [
      "797944\n",
      "779232\n"
     ]
    }
   ],
   "source": [
    "#Melt\n",
    "index_cols = ['company_ref_no', 'gic_sector_nm', 'gic_subindustry_id', 'country_cd', 'region_id', 'datadate', 'fx_rate','tsr_fwd1', 'tsr_fwd3', 'tsr_fwd12']\n",
    "\n",
    "#value_vars = ['price', 'ev_lfy', 'ev_fy1', 'eps_lfy', 'eps_fy1', 'eps_fy2', 'ebitda_lfy', 'ebitda_fy1', 'ev_ebitda_lfy',\n",
    "# 'ev_ebitda_fy1', 'div_yeild', 'pe_lfy', 'pe_fy1', 'sales_lfy', 'sales_fy1', 'sales_fy2', 'sales_growth_lfy', 'assets',\n",
    "# 'assets_fy1', 'asset_growth_lfy', 'asset_growth_fy1', 'roic_lfy', 'roic_fy1', 'roic_fy2', 'coverage_fy1', 'prc_return_1m',\n",
    "# 'prc_return_12m']\n",
    "\n",
    "#value_vars = ['eps_lfy','eps_fy1','eps_fy2','ev_ebitda_lfy','ev_ebitda_fy1','div_yeild','pe_lfy','pe_fy1',\n",
    "#              'sales_lfy','sales_growth_lfy','roic_lfy','coverage_fy1','prc_return_1m','prc_return_12m']\n",
    "\n",
    "#value_vars = ['eps_fy1','ev_ebitda_fy1','div_yeild','pe_fy1','sales_growth_lfy','roic_lfy','coverage_fy1','prc_return_12m']\n",
    "\n",
    "value_vars = ['ev_ebitda_fy1','prc_return_12m']\n",
    "factors_deep = pd.melt(factors, id_vars= index_cols, value_vars = value_vars)\n",
    "print(len(factors_deep))\n",
    "factors_deep.dropna(inplace=True)\n",
    "print(len(factors_deep))"
   ]
  },
  {
   "cell_type": "code",
   "execution_count": 9,
   "metadata": {},
   "outputs": [],
   "source": [
    "# Add z-scores\n",
    "z_score = lambda x: (x - x.mean()) / x.std()\n",
    "group = ['datadate','variable']\n",
    "sector_grouping = ['gic_sector_nm','region_id','datadate','variable']\n",
    "\n",
    "\n",
    "factors_deep['value_median'] = factors_deep.groupby(sector_grouping)['value'].transform(np.median)\n",
    "factors_deep['zscore'] = factors_deep.groupby(group)['value'].transform(z_score)\n",
    "factors_deep['sector_region_zscore'] = factors_deep.groupby(sector_grouping)['value'].transform(z_score)\n",
    "\n",
    "factors_deep['value_adj'] = np.where(abs(factors_deep['zscore'])>4,factors_deep['value_median'],factors_deep['value'])\n",
    "factors_deep['zscore'] = factors_deep.groupby(sector_grouping)['value_adj'].transform(z_score)\n",
    "\n",
    "factors_deep['value_adj'] = np.where(abs(factors_deep['sector_region_zscore'])>4,factors_deep['value_median'],factors_deep['value'])\n",
    "factors_deep['sector_region_zscore'] = factors_deep.groupby(sector_grouping)['value_adj'].transform(z_score)\n",
    "\n"
   ]
  },
  {
   "cell_type": "code",
   "execution_count": 10,
   "metadata": {},
   "outputs": [],
   "source": [
    "#Convert the yields\n",
    "convert_to_yield = ['ev_ebitda_lfy','ev_ebitda_fy1','ev_ebitda_fy2','pe_lfy','pe_fy1','pe_fy2']\n",
    "for i in convert_to_yield:\n",
    "    factors_deep['zscore'] = np.where(factors_deep['variable']==i,-1*factors_deep['zscore'],factors_deep['zscore'])\n",
    "    factors_deep['sector_region_zscore'] = np.where(factors_deep['variable']==i,-1*factors_deep['sector_region_zscore'],factors_deep['sector_region_zscore'])\n",
    "    "
   ]
  },
  {
   "cell_type": "code",
   "execution_count": 11,
   "metadata": {},
   "outputs": [],
   "source": [
    "# Convert z-scores and add Quintiles\n",
    "factors_deep['score'] = factors_deep['zscore'].apply(lambda x: norm.cdf(x))\n",
    "factors_deep['sector_region_score'] = factors_deep['sector_region_zscore'].apply(lambda x: norm.cdf(x))\n",
    "\n",
    "factors_deep['score_quintile'] = factors_deep.groupby(group)['score'].apply(lambda x: pd.qcut(x,q=5,labels=[1,2,3,4,5]))\n",
    "factors_deep['sector_region_score_quintile'] = factors_deep.groupby(group)['score'].apply(lambda x: pd.qcut(x,q=5,labels=[1,2,3,4,5]))\n"
   ]
  },
  {
   "cell_type": "code",
   "execution_count": 12,
   "metadata": {},
   "outputs": [],
   "source": [
    "score_median = factors_deep.groupby(['variable','score_quintile'])['tsr_fwd1', 'tsr_fwd3', 'tsr_fwd12'].apply(np.median)\n",
    "score_average = factors_deep.groupby(['variable','score_quintile'])['tsr_fwd1', 'tsr_fwd3', 'tsr_fwd12'].apply(np.mean)\n",
    "sector_region_score_median = factors_deep.groupby(['variable','sector_region_score_quintile'])['tsr_fwd1', 'tsr_fwd3', 'tsr_fwd12'].apply(np.median)\n",
    "sector_region_score_average = factors_deep.groupby(['variable','sector_region_score_quintile'])['tsr_fwd1', 'tsr_fwd3', 'tsr_fwd12'].apply(np.mean)"
   ]
  },
  {
   "cell_type": "code",
   "execution_count": 16,
   "metadata": {},
   "outputs": [
    {
     "data": {
      "text/html": [
       "<div>\n",
       "<style scoped>\n",
       "    .dataframe tbody tr th:only-of-type {\n",
       "        vertical-align: middle;\n",
       "    }\n",
       "\n",
       "    .dataframe tbody tr th {\n",
       "        vertical-align: top;\n",
       "    }\n",
       "\n",
       "    .dataframe thead th {\n",
       "        text-align: right;\n",
       "    }\n",
       "</style>\n",
       "<table border=\"1\" class=\"dataframe\">\n",
       "  <thead>\n",
       "    <tr style=\"text-align: right;\">\n",
       "      <th></th>\n",
       "      <th></th>\n",
       "      <th>tsr_fwd1</th>\n",
       "      <th>tsr_fwd3</th>\n",
       "      <th>tsr_fwd12</th>\n",
       "    </tr>\n",
       "    <tr>\n",
       "      <th>variable</th>\n",
       "      <th>sector_region_score_quintile</th>\n",
       "      <th></th>\n",
       "      <th></th>\n",
       "      <th></th>\n",
       "    </tr>\n",
       "  </thead>\n",
       "  <tbody>\n",
       "    <tr>\n",
       "      <th rowspan=\"5\" valign=\"top\">ev_ebitda_fy1</th>\n",
       "      <th>1</th>\n",
       "      <td>0.573480</td>\n",
       "      <td>2.244628</td>\n",
       "      <td>8.614803</td>\n",
       "    </tr>\n",
       "    <tr>\n",
       "      <th>2</th>\n",
       "      <td>0.620839</td>\n",
       "      <td>2.543597</td>\n",
       "      <td>11.142382</td>\n",
       "    </tr>\n",
       "    <tr>\n",
       "      <th>3</th>\n",
       "      <td>0.738261</td>\n",
       "      <td>2.471585</td>\n",
       "      <td>9.864745</td>\n",
       "    </tr>\n",
       "    <tr>\n",
       "      <th>4</th>\n",
       "      <td>0.727842</td>\n",
       "      <td>2.497262</td>\n",
       "      <td>10.101300</td>\n",
       "    </tr>\n",
       "    <tr>\n",
       "      <th>5</th>\n",
       "      <td>0.681143</td>\n",
       "      <td>2.953083</td>\n",
       "      <td>12.373434</td>\n",
       "    </tr>\n",
       "    <tr>\n",
       "      <th rowspan=\"5\" valign=\"top\">prc_return_12m</th>\n",
       "      <th>1</th>\n",
       "      <td>0.628711</td>\n",
       "      <td>1.641018</td>\n",
       "      <td>9.206789</td>\n",
       "    </tr>\n",
       "    <tr>\n",
       "      <th>2</th>\n",
       "      <td>0.643476</td>\n",
       "      <td>2.345417</td>\n",
       "      <td>9.937579</td>\n",
       "    </tr>\n",
       "    <tr>\n",
       "      <th>3</th>\n",
       "      <td>0.659418</td>\n",
       "      <td>2.812747</td>\n",
       "      <td>10.767394</td>\n",
       "    </tr>\n",
       "    <tr>\n",
       "      <th>4</th>\n",
       "      <td>0.695187</td>\n",
       "      <td>2.708331</td>\n",
       "      <td>10.632621</td>\n",
       "    </tr>\n",
       "    <tr>\n",
       "      <th>5</th>\n",
       "      <td>0.702355</td>\n",
       "      <td>3.179232</td>\n",
       "      <td>11.435725</td>\n",
       "    </tr>\n",
       "  </tbody>\n",
       "</table>\n",
       "</div>"
      ],
      "text/plain": [
       "                                             tsr_fwd1  tsr_fwd3  tsr_fwd12\n",
       "variable       sector_region_score_quintile                               \n",
       "ev_ebitda_fy1  1                             0.573480  2.244628   8.614803\n",
       "               2                             0.620839  2.543597  11.142382\n",
       "               3                             0.738261  2.471585   9.864745\n",
       "               4                             0.727842  2.497262  10.101300\n",
       "               5                             0.681143  2.953083  12.373434\n",
       "prc_return_12m 1                             0.628711  1.641018   9.206789\n",
       "               2                             0.643476  2.345417   9.937579\n",
       "               3                             0.659418  2.812747  10.767394\n",
       "               4                             0.695187  2.708331  10.632621\n",
       "               5                             0.702355  3.179232  11.435725"
      ]
     },
     "execution_count": 16,
     "metadata": {},
     "output_type": "execute_result"
    }
   ],
   "source": [
    "sector_region_score_average"
   ]
  },
  {
   "cell_type": "code",
   "execution_count": null,
   "metadata": {},
   "outputs": [],
   "source": []
  }
 ],
 "metadata": {
  "kernelspec": {
   "display_name": "Python 3",
   "language": "python",
   "name": "python3"
  },
  "language_info": {
   "codemirror_mode": {
    "name": "ipython",
    "version": 3
   },
   "file_extension": ".py",
   "mimetype": "text/x-python",
   "name": "python",
   "nbconvert_exporter": "python",
   "pygments_lexer": "ipython3",
   "version": "3.6.4"
  }
 },
 "nbformat": 4,
 "nbformat_minor": 2
}
